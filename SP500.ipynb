{
 "cells": [
  {
   "cell_type": "markdown",
   "metadata": {},
   "source": [
    "# S&P 500 Dataset Overview"
   ]
  },
  {
   "cell_type": "markdown",
   "metadata": {},
   "source": [
    "### Authors: </br>\n",
    "Ruy Guzmán </br>\n",
    "Fernanda de León </br>\n",
    "Karla Mondragón"
   ]
  },
  {
   "cell_type": "markdown",
   "metadata": {},
   "source": [
    "To download this dataset: https://www.kaggle.com/datasets/guillemservera/sp500-nasdaq-spy-qqq-ohlcv-data/?select=SP500.csv"
   ]
  },
  {
   "cell_type": "code",
   "execution_count": 3,
   "metadata": {
    "vscode": {
     "languageId": "powershell"
    }
   },
   "outputs": [
    {
     "name": "stdout",
     "output_type": "stream",
     "text": [
      "Collecting matplotlib\n",
      "  Downloading matplotlib-3.8.2-cp310-cp310-win_amd64.whl (7.6 MB)\n",
      "Collecting contourpy>=1.0.1\n",
      "  Downloading contourpy-1.2.0-cp310-cp310-win_amd64.whl (186 kB)\n",
      "Collecting fonttools>=4.22.0\n",
      "  Downloading fonttools-4.45.0-cp310-cp310-win_amd64.whl (2.2 MB)\n",
      "Collecting pyparsing>=2.3.1\n",
      "  Downloading pyparsing-3.1.1-py3-none-any.whl (103 kB)\n",
      "Requirement already satisfied: python-dateutil>=2.7 in c:\\users\\karla\\appdata\\roaming\\python\\python310\\site-packages (from matplotlib) (2.8.2)\n",
      "Requirement already satisfied: numpy<2,>=1.21 in c:\\users\\karla\\appdata\\local\\programs\\python\\python310\\lib\\site-packages (from matplotlib) (1.26.2)\n",
      "Collecting cycler>=0.10\n",
      "  Downloading cycler-0.12.1-py3-none-any.whl (8.3 kB)\n",
      "Requirement already satisfied: packaging>=20.0 in c:\\users\\karla\\appdata\\roaming\\python\\python310\\site-packages (from matplotlib) (23.2)\n",
      "Collecting pillow>=8\n",
      "  Downloading Pillow-10.1.0-cp310-cp310-win_amd64.whl (2.6 MB)\n",
      "Collecting kiwisolver>=1.3.1\n",
      "  Downloading kiwisolver-1.4.5-cp310-cp310-win_amd64.whl (56 kB)\n",
      "Requirement already satisfied: six>=1.5 in c:\\users\\karla\\appdata\\roaming\\python\\python310\\site-packages (from python-dateutil>=2.7->matplotlib) (1.16.0)\n",
      "Installing collected packages: pyparsing, pillow, kiwisolver, fonttools, cycler, contourpy, matplotlib\n",
      "Successfully installed contourpy-1.2.0 cycler-0.12.1 fonttools-4.45.0 kiwisolver-1.4.5 matplotlib-3.8.2 pillow-10.1.0 pyparsing-3.1.1\n",
      "Note: you may need to restart the kernel to use updated packages.\n"
     ]
    },
    {
     "name": "stderr",
     "output_type": "stream",
     "text": [
      "  WARNING: The scripts fonttools.exe, pyftmerge.exe, pyftsubset.exe and ttx.exe are installed in 'c:\\Users\\karla\\AppData\\Local\\Programs\\Python\\Python310\\Scripts' which is not on PATH.\n",
      "  Consider adding this directory to PATH or, if you prefer to suppress this warning, use --no-warn-script-location.\n",
      "WARNING: You are using pip version 21.2.3; however, version 23.3.1 is available.\n",
      "You should consider upgrading via the 'c:\\Users\\karla\\AppData\\Local\\Programs\\Python\\Python310\\python.exe -m pip install --upgrade pip' command.\n"
     ]
    }
   ],
   "source": [
    "pip install matplotlib"
   ]
  },
  {
   "cell_type": "code",
   "execution_count": 4,
   "metadata": {},
   "outputs": [],
   "source": [
    "import pandas as pd \n",
    "import IPython\n",
    "import matplotlib.pyplot as plt\n",
    "import numpy as np"
   ]
  },
  {
   "cell_type": "code",
   "execution_count": 5,
   "metadata": {},
   "outputs": [
    {
     "data": {
      "text/html": [
       "<div>\n",
       "<style scoped>\n",
       "    .dataframe tbody tr th:only-of-type {\n",
       "        vertical-align: middle;\n",
       "    }\n",
       "\n",
       "    .dataframe tbody tr th {\n",
       "        vertical-align: top;\n",
       "    }\n",
       "\n",
       "    .dataframe thead th {\n",
       "        text-align: right;\n",
       "    }\n",
       "</style>\n",
       "<table border=\"1\" class=\"dataframe\">\n",
       "  <thead>\n",
       "    <tr style=\"text-align: right;\">\n",
       "      <th></th>\n",
       "      <th>date</th>\n",
       "      <th>open</th>\n",
       "      <th>high</th>\n",
       "      <th>low</th>\n",
       "      <th>close</th>\n",
       "      <th>volume</th>\n",
       "      <th>change_percent</th>\n",
       "      <th>avg_vol_20d</th>\n",
       "    </tr>\n",
       "  </thead>\n",
       "  <tbody>\n",
       "    <tr>\n",
       "      <th>0</th>\n",
       "      <td>1927-12-30</td>\n",
       "      <td>17.6600</td>\n",
       "      <td>17.6600</td>\n",
       "      <td>17.6600</td>\n",
       "      <td>17.6600</td>\n",
       "      <td>0</td>\n",
       "      <td>NaN</td>\n",
       "      <td>NaN</td>\n",
       "    </tr>\n",
       "    <tr>\n",
       "      <th>1</th>\n",
       "      <td>1928-01-03</td>\n",
       "      <td>17.7600</td>\n",
       "      <td>17.7600</td>\n",
       "      <td>17.7600</td>\n",
       "      <td>17.7600</td>\n",
       "      <td>0</td>\n",
       "      <td>0.57</td>\n",
       "      <td>NaN</td>\n",
       "    </tr>\n",
       "    <tr>\n",
       "      <th>2</th>\n",
       "      <td>1928-01-04</td>\n",
       "      <td>17.7200</td>\n",
       "      <td>17.7200</td>\n",
       "      <td>17.7200</td>\n",
       "      <td>17.7200</td>\n",
       "      <td>0</td>\n",
       "      <td>-0.23</td>\n",
       "      <td>NaN</td>\n",
       "    </tr>\n",
       "    <tr>\n",
       "      <th>3</th>\n",
       "      <td>1928-01-05</td>\n",
       "      <td>17.5500</td>\n",
       "      <td>17.5500</td>\n",
       "      <td>17.5500</td>\n",
       "      <td>17.5500</td>\n",
       "      <td>0</td>\n",
       "      <td>-0.96</td>\n",
       "      <td>NaN</td>\n",
       "    </tr>\n",
       "    <tr>\n",
       "      <th>4</th>\n",
       "      <td>1928-01-06</td>\n",
       "      <td>17.6600</td>\n",
       "      <td>17.6600</td>\n",
       "      <td>17.6600</td>\n",
       "      <td>17.6600</td>\n",
       "      <td>0</td>\n",
       "      <td>0.63</td>\n",
       "      <td>NaN</td>\n",
       "    </tr>\n",
       "    <tr>\n",
       "      <th>...</th>\n",
       "      <td>...</td>\n",
       "      <td>...</td>\n",
       "      <td>...</td>\n",
       "      <td>...</td>\n",
       "      <td>...</td>\n",
       "      <td>...</td>\n",
       "      <td>...</td>\n",
       "      <td>...</td>\n",
       "    </tr>\n",
       "    <tr>\n",
       "      <th>24084</th>\n",
       "      <td>2023-11-15</td>\n",
       "      <td>4505.2998</td>\n",
       "      <td>4521.1699</td>\n",
       "      <td>4495.3101</td>\n",
       "      <td>4502.8799</td>\n",
       "      <td>4347170000</td>\n",
       "      <td>0.16</td>\n",
       "      <td>4.024057e+09</td>\n",
       "    </tr>\n",
       "    <tr>\n",
       "      <th>24085</th>\n",
       "      <td>2023-11-16</td>\n",
       "      <td>4497.0801</td>\n",
       "      <td>4511.9902</td>\n",
       "      <td>4487.8301</td>\n",
       "      <td>4508.2402</td>\n",
       "      <td>3964520000</td>\n",
       "      <td>0.12</td>\n",
       "      <td>4.023796e+09</td>\n",
       "    </tr>\n",
       "    <tr>\n",
       "      <th>24086</th>\n",
       "      <td>2023-11-17</td>\n",
       "      <td>4509.5498</td>\n",
       "      <td>4520.1201</td>\n",
       "      <td>4499.6602</td>\n",
       "      <td>4514.0200</td>\n",
       "      <td>3777240000</td>\n",
       "      <td>0.13</td>\n",
       "      <td>4.012457e+09</td>\n",
       "    </tr>\n",
       "    <tr>\n",
       "      <th>24087</th>\n",
       "      <td>2023-11-20</td>\n",
       "      <td>4511.7002</td>\n",
       "      <td>4557.1099</td>\n",
       "      <td>4510.3599</td>\n",
       "      <td>4547.3799</td>\n",
       "      <td>3644790000</td>\n",
       "      <td>0.74</td>\n",
       "      <td>4.005892e+09</td>\n",
       "    </tr>\n",
       "    <tr>\n",
       "      <th>24088</th>\n",
       "      <td>2023-11-21</td>\n",
       "      <td>4538.7700</td>\n",
       "      <td>4542.1401</td>\n",
       "      <td>4525.5098</td>\n",
       "      <td>4538.1899</td>\n",
       "      <td>2059443000</td>\n",
       "      <td>-0.20</td>\n",
       "      <td>3.917773e+09</td>\n",
       "    </tr>\n",
       "  </tbody>\n",
       "</table>\n",
       "<p>24089 rows × 8 columns</p>\n",
       "</div>"
      ],
      "text/plain": [
       "             date       open       high        low      close      volume  \\\n",
       "0      1927-12-30    17.6600    17.6600    17.6600    17.6600           0   \n",
       "1      1928-01-03    17.7600    17.7600    17.7600    17.7600           0   \n",
       "2      1928-01-04    17.7200    17.7200    17.7200    17.7200           0   \n",
       "3      1928-01-05    17.5500    17.5500    17.5500    17.5500           0   \n",
       "4      1928-01-06    17.6600    17.6600    17.6600    17.6600           0   \n",
       "...           ...        ...        ...        ...        ...         ...   \n",
       "24084  2023-11-15  4505.2998  4521.1699  4495.3101  4502.8799  4347170000   \n",
       "24085  2023-11-16  4497.0801  4511.9902  4487.8301  4508.2402  3964520000   \n",
       "24086  2023-11-17  4509.5498  4520.1201  4499.6602  4514.0200  3777240000   \n",
       "24087  2023-11-20  4511.7002  4557.1099  4510.3599  4547.3799  3644790000   \n",
       "24088  2023-11-21  4538.7700  4542.1401  4525.5098  4538.1899  2059443000   \n",
       "\n",
       "       change_percent   avg_vol_20d  \n",
       "0                 NaN           NaN  \n",
       "1                0.57           NaN  \n",
       "2               -0.23           NaN  \n",
       "3               -0.96           NaN  \n",
       "4                0.63           NaN  \n",
       "...               ...           ...  \n",
       "24084            0.16  4.024057e+09  \n",
       "24085            0.12  4.023796e+09  \n",
       "24086            0.13  4.012457e+09  \n",
       "24087            0.74  4.005892e+09  \n",
       "24088           -0.20  3.917773e+09  \n",
       "\n",
       "[24089 rows x 8 columns]"
      ]
     },
     "execution_count": 5,
     "metadata": {},
     "output_type": "execute_result"
    }
   ],
   "source": [
    "df = pd.read_csv('SP500.csv')\n",
    "df"
   ]
  },
  {
   "cell_type": "code",
   "execution_count": 6,
   "metadata": {},
   "outputs": [
    {
     "data": {
      "text/html": [
       "\n",
       "        <iframe\n",
       "            width=\"950px\"\n",
       "            height=\"300\"\n",
       "            src=\"https://www.kaggle.com/embed/zhipengsun964/ga-python-finalproject?cellIds=5&kernelSessionId=150910453\"\n",
       "            frameborder=\"0\"\n",
       "            allowfullscreen\n",
       "            \n",
       "        ></iframe>\n",
       "        "
      ],
      "text/plain": [
       "<IPython.lib.display.IFrame at 0x27a187acfd0>"
      ]
     },
     "execution_count": 6,
     "metadata": {},
     "output_type": "execute_result"
    }
   ],
   "source": [
    "IPython.display.IFrame(src=\"https://www.kaggle.com/embed/zhipengsun964/ga-python-finalproject?cellIds=5&kernelSessionId=150910453\", width = \"950px\", height=\"300\")"
   ]
  },
  {
   "cell_type": "code",
   "execution_count": 8,
   "metadata": {},
   "outputs": [
    {
     "data": {
      "image/png": "[encoded data removed]",
      "text/plain": [
       "<Figure size 1200x600 with 1 Axes>"
      ]
     },
     "metadata": {},
     "output_type": "display_data"
    }
   ],
   "source": [
    "plt.figure(figsize=(12, 6))\n",
    "plt.plot(df['date'], df['close'], marker='o', linestyle='-', color='b')\n",
    "plt.title('Time Series of Close Price')\n",
    "plt.xlabel('Date')\n",
    "plt.ylabel('Close Price')\n",
    "plt.show()"
   ]
  }
 ],
 "metadata": {
  "kernelspec": {
   "display_name": "Python 3",
   "language": "python",
   "name": "python3"
  },
  "language_info": {
   "codemirror_mode": {
    "name": "ipython",
    "version": 3
   },
   "file_extension": ".py",
   "mimetype": "text/x-python",
   "name": "python",
   "nbconvert_exporter": "python",
   "pygments_lexer": "ipython3",
   "version": "3.10.0"
  }
 },
 "nbformat": 4,
 "nbformat_minor": 2
}
